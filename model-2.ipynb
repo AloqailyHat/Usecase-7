{
 "cells": [
  {
   "cell_type": "code",
   "execution_count": 2,
   "id": "75584ff5",
   "metadata": {},
   "outputs": [],
   "source": [
    "import warnings\n",
    "warnings.filterwarnings(\"ignore\")\n",
    "import pandas as pd\n",
    "import numpy as np\n",
    "import matplotlib.pyplot as plt\n",
    "import seaborn as sns\n",
    "\n",
    "from sklearn.model_selection import train_test_split\n",
    "from sklearn.metrics import mean_squared_error, r2_score, mean_absolute_error\n",
    "from sklearn.preprocessing import StandardScaler\n",
    "from sklearn.linear_model import LinearRegression\n",
    "from sklearn import metrics\n",
    "from sklearn.metrics import accuracy_score\n",
    "from sklearn.model_selection import KFold\n",
    "from sklearn.model_selection import cross_val_score\n",
    "\n",
    "\n",
    "%matplotlib inline"
   ]
  },
  {
   "cell_type": "code",
   "execution_count": 2,
   "id": "b16d25de",
   "metadata": {},
   "outputs": [],
   "source": [
    "# I did two models, one for the goalkeepers, and defenders and the other is for the rest of the players\n",
    "# but i had an issue with the other model "
   ]
  },
  {
   "cell_type": "code",
   "execution_count": 3,
   "id": "1f493980",
   "metadata": {},
   "outputs": [],
   "source": [
    "df_rest_players = pd.read_csv('rest_players.csv')"
   ]
  },
  {
   "cell_type": "markdown",
   "id": "70fabac2",
   "metadata": {},
   "source": [
    "#### 1. Feature engineering steps:"
   ]
  },
  {
   "cell_type": "markdown",
   "id": "73cc891a",
   "metadata": {},
   "source": [
    "1. Feature scaling: a method used to standardize the range of independent variables or features of data.\n",
    "2. Aggregation: a process in data processing where summary statistics are calculated from data. \n",
    "3. One hot coding: a process used to convert categorical data variables so they can be provided to machine learning algorithms to improve predictions. "
   ]
  },
  {
   "cell_type": "code",
   "execution_count": 4,
   "id": "c3a2fb35",
   "metadata": {},
   "outputs": [
    {
     "data": {
      "text/html": [
       "<div>\n",
       "<style scoped>\n",
       "    .dataframe tbody tr th:only-of-type {\n",
       "        vertical-align: middle;\n",
       "    }\n",
       "\n",
       "    .dataframe tbody tr th {\n",
       "        vertical-align: top;\n",
       "    }\n",
       "\n",
       "    .dataframe thead th {\n",
       "        text-align: right;\n",
       "    }\n",
       "</style>\n",
       "<table border=\"1\" class=\"dataframe\">\n",
       "  <thead>\n",
       "    <tr style=\"text-align: right;\">\n",
       "      <th></th>\n",
       "      <th>Unnamed: 0</th>\n",
       "      <th>team</th>\n",
       "      <th>position</th>\n",
       "      <th>height</th>\n",
       "      <th>age</th>\n",
       "      <th>appearance</th>\n",
       "      <th>goals</th>\n",
       "      <th>assists</th>\n",
       "      <th>yellow cards</th>\n",
       "      <th>red cards</th>\n",
       "      <th>goals conceded</th>\n",
       "      <th>minutes played</th>\n",
       "      <th>days_injured</th>\n",
       "      <th>award</th>\n",
       "      <th>current_value</th>\n",
       "    </tr>\n",
       "  </thead>\n",
       "  <tbody>\n",
       "    <tr>\n",
       "      <th>0</th>\n",
       "      <td>16</td>\n",
       "      <td>Manchester United</td>\n",
       "      <td>midfield-CentralMidfield</td>\n",
       "      <td>182.0</td>\n",
       "      <td>31.0</td>\n",
       "      <td>55</td>\n",
       "      <td>0.067214</td>\n",
       "      <td>0.313667</td>\n",
       "      <td>0.089619</td>\n",
       "      <td>0.0</td>\n",
       "      <td>0.0</td>\n",
       "      <td>4017</td>\n",
       "      <td>0</td>\n",
       "      <td>10</td>\n",
       "      <td>25000000</td>\n",
       "    </tr>\n",
       "    <tr>\n",
       "      <th>1</th>\n",
       "      <td>17</td>\n",
       "      <td>Manchester United</td>\n",
       "      <td>midfield-CentralMidfield</td>\n",
       "      <td>177.0</td>\n",
       "      <td>29.0</td>\n",
       "      <td>74</td>\n",
       "      <td>0.144046</td>\n",
       "      <td>0.086428</td>\n",
       "      <td>0.230474</td>\n",
       "      <td>0.0</td>\n",
       "      <td>0.0</td>\n",
       "      <td>3124</td>\n",
       "      <td>280</td>\n",
       "      <td>8</td>\n",
       "      <td>20000000</td>\n",
       "    </tr>\n",
       "    <tr>\n",
       "      <th>2</th>\n",
       "      <td>18</td>\n",
       "      <td>Manchester United</td>\n",
       "      <td>midfield-CentralMidfield</td>\n",
       "      <td>169.0</td>\n",
       "      <td>30.0</td>\n",
       "      <td>92</td>\n",
       "      <td>0.184843</td>\n",
       "      <td>0.221811</td>\n",
       "      <td>0.332717</td>\n",
       "      <td>0.0</td>\n",
       "      <td>0.0</td>\n",
       "      <td>4869</td>\n",
       "      <td>45</td>\n",
       "      <td>11</td>\n",
       "      <td>20000000</td>\n",
       "    </tr>\n",
       "    <tr>\n",
       "      <th>3</th>\n",
       "      <td>19</td>\n",
       "      <td>Manchester United</td>\n",
       "      <td>midfield-CentralMidfield</td>\n",
       "      <td>184.0</td>\n",
       "      <td>26.0</td>\n",
       "      <td>31</td>\n",
       "      <td>0.155575</td>\n",
       "      <td>0.000000</td>\n",
       "      <td>0.155575</td>\n",
       "      <td>0.0</td>\n",
       "      <td>0.0</td>\n",
       "      <td>1157</td>\n",
       "      <td>378</td>\n",
       "      <td>6</td>\n",
       "      <td>17000000</td>\n",
       "    </tr>\n",
       "    <tr>\n",
       "      <th>4</th>\n",
       "      <td>20</td>\n",
       "      <td>Manchester United</td>\n",
       "      <td>midfield-CentralMidfield</td>\n",
       "      <td>181.0</td>\n",
       "      <td>20.0</td>\n",
       "      <td>39</td>\n",
       "      <td>0.129125</td>\n",
       "      <td>0.064562</td>\n",
       "      <td>0.225968</td>\n",
       "      <td>0.0</td>\n",
       "      <td>0.0</td>\n",
       "      <td>2788</td>\n",
       "      <td>0</td>\n",
       "      <td>1</td>\n",
       "      <td>800000</td>\n",
       "    </tr>\n",
       "  </tbody>\n",
       "</table>\n",
       "</div>"
      ],
      "text/plain": [
       "   Unnamed: 0               team                  position  height   age  \\\n",
       "0          16  Manchester United  midfield-CentralMidfield   182.0  31.0   \n",
       "1          17  Manchester United  midfield-CentralMidfield   177.0  29.0   \n",
       "2          18  Manchester United  midfield-CentralMidfield   169.0  30.0   \n",
       "3          19  Manchester United  midfield-CentralMidfield   184.0  26.0   \n",
       "4          20  Manchester United  midfield-CentralMidfield   181.0  20.0   \n",
       "\n",
       "   appearance     goals   assists  yellow cards  red cards  goals conceded  \\\n",
       "0          55  0.067214  0.313667      0.089619        0.0             0.0   \n",
       "1          74  0.144046  0.086428      0.230474        0.0             0.0   \n",
       "2          92  0.184843  0.221811      0.332717        0.0             0.0   \n",
       "3          31  0.155575  0.000000      0.155575        0.0             0.0   \n",
       "4          39  0.129125  0.064562      0.225968        0.0             0.0   \n",
       "\n",
       "   minutes played  days_injured  award  current_value  \n",
       "0            4017             0     10       25000000  \n",
       "1            3124           280      8       20000000  \n",
       "2            4869            45     11       20000000  \n",
       "3            1157           378      6       17000000  \n",
       "4            2788             0      1         800000  "
      ]
     },
     "execution_count": 4,
     "metadata": {},
     "output_type": "execute_result"
    }
   ],
   "source": [
    "df_rest_players.head()"
   ]
  },
  {
   "cell_type": "code",
   "execution_count": 5,
   "id": "e11a65db",
   "metadata": {},
   "outputs": [],
   "source": [
    "df_rest_players.drop('Unnamed: 0', axis=1, inplace=True)"
   ]
  },
  {
   "cell_type": "code",
   "execution_count": 8,
   "id": "bc5bf17c",
   "metadata": {},
   "outputs": [],
   "source": [
    "# first do one hot coding:"
   ]
  },
  {
   "cell_type": "code",
   "execution_count": 7,
   "id": "8f2182b7",
   "metadata": {},
   "outputs": [
    {
     "data": {
      "text/plain": [
       "Index(['team', 'position', 'height', 'age', 'appearance', 'goals', 'assists',\n",
       "       'yellow cards', 'red cards', 'goals conceded', 'minutes played',\n",
       "       'days_injured', 'award', 'current_value'],\n",
       "      dtype='object')"
      ]
     },
     "execution_count": 7,
     "metadata": {},
     "output_type": "execute_result"
    }
   ],
   "source": [
    "df_rest_players.columns"
   ]
  },
  {
   "cell_type": "code",
   "execution_count": 8,
   "id": "c44ed2b5",
   "metadata": {},
   "outputs": [],
   "source": [
    "# dataset 2: df_rest_players\n",
    "rest_players_categorical = ['team', 'position']\n",
    "rest_players_numerical = ['height', 'age', 'appearance', 'goals', 'assists', 'yellow cards',\n",
    "                              'red cards','goals conceded', 'minutes played', 'days_injured', 'games_injured',\n",
    "                             'award', 'current_value']\n"
   ]
  },
  {
   "cell_type": "code",
   "execution_count": 9,
   "id": "525790e2",
   "metadata": {},
   "outputs": [
    {
     "data": {
      "text/plain": [
       "['team', 'position']"
      ]
     },
     "execution_count": 9,
     "metadata": {},
     "output_type": "execute_result"
    }
   ],
   "source": [
    "rest_players_categorical"
   ]
  },
  {
   "cell_type": "code",
   "execution_count": 10,
   "id": "bf0cf4db",
   "metadata": {},
   "outputs": [
    {
     "data": {
      "text/plain": [
       "['height',\n",
       " 'age',\n",
       " 'appearance',\n",
       " 'goals',\n",
       " 'assists',\n",
       " 'yellow cards',\n",
       " 'red cards',\n",
       " 'goals conceded',\n",
       " 'minutes played',\n",
       " 'days_injured',\n",
       " 'games_injured',\n",
       " 'award',\n",
       " 'current_value']"
      ]
     },
     "execution_count": 10,
     "metadata": {},
     "output_type": "execute_result"
    }
   ],
   "source": [
    "rest_players_numerical"
   ]
  },
  {
   "cell_type": "code",
   "execution_count": 11,
   "id": "664cc983",
   "metadata": {},
   "outputs": [],
   "source": [
    "# get_dummies function: a powerful tool for converting categorical variable(s) into dummy/indicator variables, which is essentially implementing one-hot encoding\n",
    "df_rest_players = pd.get_dummies(df_rest_players, columns= rest_players_categorical)"
   ]
  },
  {
   "cell_type": "code",
   "execution_count": 12,
   "id": "009b6a99",
   "metadata": {},
   "outputs": [
    {
     "data": {
      "text/plain": [
       "(4136, 398)"
      ]
     },
     "execution_count": 12,
     "metadata": {},
     "output_type": "execute_result"
    }
   ],
   "source": [
    "# it cretated dummy varieables for categorical feature values \n",
    "df_rest_players.shape"
   ]
  },
  {
   "cell_type": "code",
   "execution_count": 13,
   "id": "cc0e04ac",
   "metadata": {},
   "outputs": [
    {
     "name": "stdout",
     "output_type": "stream",
     "text": [
      "current_value                          1.000000\n",
      "appearance                             0.358491\n",
      "minutes played                         0.345816\n",
      "award                                  0.273992\n",
      "team_Bayern Munich                     0.232843\n",
      "                                         ...   \n",
      "position_midfield-RightMidfield       -0.036713\n",
      "position_midfield-DefensiveMidfield   -0.041710\n",
      "yellow cards                          -0.066831\n",
      "age                                   -0.090431\n",
      "goals conceded                              NaN\n",
      "Name: current_value, Length: 398, dtype: float64\n"
     ]
    }
   ],
   "source": [
    "# now we are going to correlate our data \n",
    "correlation = df_rest_players.corr()\n",
    "print(correlation['current_value'].sort_values(ascending=False))"
   ]
  },
  {
   "cell_type": "code",
   "execution_count": 16,
   "id": "2b6582d7",
   "metadata": {},
   "outputs": [
    {
     "data": {
      "text/plain": [
       "Index(['appearance', 'assists', 'minutes played', 'days_injured', 'award',\n",
       "       'current_value', 'team_Arsenal FC', 'team_Bayern Munich',\n",
       "       'team_Chelsea FC', 'team_FC Barcelona', 'team_Liverpool FC',\n",
       "       'team_Manchester City', 'team_SSC Napoli'],\n",
       "      dtype='object')"
      ]
     },
     "execution_count": 16,
     "metadata": {},
     "output_type": "execute_result"
    }
   ],
   "source": [
    "# threeshold: a specific cutoff value used to determine the strength \n",
    "# of the relationship between two variables, \n",
    "# as measured by a correlation coefficient. \n",
    "\n",
    "threshold = 0.15\n",
    "\n",
    "# We use `abs()` for absolute value to consider both strong positive and negative correlations\n",
    "selected_features = correlation[abs(correlation['current_value']) > threshold]['current_value'].index\n",
    "selected_features"
   ]
  },
  {
   "cell_type": "code",
   "execution_count": 17,
   "id": "1424ee22",
   "metadata": {},
   "outputs": [],
   "source": [
    "selected_features = ['appearance', 'assists', 'minutes played', 'days_injured', 'award',\n",
    "       'current_value', 'team_Arsenal FC', 'team_Bayern Munich',\n",
    "       'team_Chelsea FC', 'team_FC Barcelona', 'team_Liverpool FC',\n",
    "       'team_Manchester City', 'team_SSC Napoli'] "
   ]
  },
  {
   "cell_type": "code",
   "execution_count": 18,
   "id": "1e0b0780",
   "metadata": {},
   "outputs": [
    {
     "data": {
      "text/html": [
       "<div>\n",
       "<style scoped>\n",
       "    .dataframe tbody tr th:only-of-type {\n",
       "        vertical-align: middle;\n",
       "    }\n",
       "\n",
       "    .dataframe tbody tr th {\n",
       "        vertical-align: top;\n",
       "    }\n",
       "\n",
       "    .dataframe thead th {\n",
       "        text-align: right;\n",
       "    }\n",
       "</style>\n",
       "<table border=\"1\" class=\"dataframe\">\n",
       "  <thead>\n",
       "    <tr style=\"text-align: right;\">\n",
       "      <th></th>\n",
       "      <th>appearance</th>\n",
       "      <th>assists</th>\n",
       "      <th>minutes played</th>\n",
       "      <th>days_injured</th>\n",
       "      <th>award</th>\n",
       "      <th>current_value</th>\n",
       "      <th>team_Arsenal FC</th>\n",
       "      <th>team_Bayern Munich</th>\n",
       "      <th>team_Chelsea FC</th>\n",
       "      <th>team_FC Barcelona</th>\n",
       "      <th>team_Liverpool FC</th>\n",
       "      <th>team_Manchester City</th>\n",
       "      <th>team_SSC Napoli</th>\n",
       "    </tr>\n",
       "  </thead>\n",
       "  <tbody>\n",
       "    <tr>\n",
       "      <th>0</th>\n",
       "      <td>55</td>\n",
       "      <td>0.313667</td>\n",
       "      <td>4017</td>\n",
       "      <td>0</td>\n",
       "      <td>10</td>\n",
       "      <td>25000000</td>\n",
       "      <td>False</td>\n",
       "      <td>False</td>\n",
       "      <td>False</td>\n",
       "      <td>False</td>\n",
       "      <td>False</td>\n",
       "      <td>False</td>\n",
       "      <td>False</td>\n",
       "    </tr>\n",
       "    <tr>\n",
       "      <th>1</th>\n",
       "      <td>74</td>\n",
       "      <td>0.086428</td>\n",
       "      <td>3124</td>\n",
       "      <td>280</td>\n",
       "      <td>8</td>\n",
       "      <td>20000000</td>\n",
       "      <td>False</td>\n",
       "      <td>False</td>\n",
       "      <td>False</td>\n",
       "      <td>False</td>\n",
       "      <td>False</td>\n",
       "      <td>False</td>\n",
       "      <td>False</td>\n",
       "    </tr>\n",
       "    <tr>\n",
       "      <th>2</th>\n",
       "      <td>92</td>\n",
       "      <td>0.221811</td>\n",
       "      <td>4869</td>\n",
       "      <td>45</td>\n",
       "      <td>11</td>\n",
       "      <td>20000000</td>\n",
       "      <td>False</td>\n",
       "      <td>False</td>\n",
       "      <td>False</td>\n",
       "      <td>False</td>\n",
       "      <td>False</td>\n",
       "      <td>False</td>\n",
       "      <td>False</td>\n",
       "    </tr>\n",
       "    <tr>\n",
       "      <th>3</th>\n",
       "      <td>31</td>\n",
       "      <td>0.000000</td>\n",
       "      <td>1157</td>\n",
       "      <td>378</td>\n",
       "      <td>6</td>\n",
       "      <td>17000000</td>\n",
       "      <td>False</td>\n",
       "      <td>False</td>\n",
       "      <td>False</td>\n",
       "      <td>False</td>\n",
       "      <td>False</td>\n",
       "      <td>False</td>\n",
       "      <td>False</td>\n",
       "    </tr>\n",
       "    <tr>\n",
       "      <th>4</th>\n",
       "      <td>39</td>\n",
       "      <td>0.064562</td>\n",
       "      <td>2788</td>\n",
       "      <td>0</td>\n",
       "      <td>1</td>\n",
       "      <td>800000</td>\n",
       "      <td>False</td>\n",
       "      <td>False</td>\n",
       "      <td>False</td>\n",
       "      <td>False</td>\n",
       "      <td>False</td>\n",
       "      <td>False</td>\n",
       "      <td>False</td>\n",
       "    </tr>\n",
       "  </tbody>\n",
       "</table>\n",
       "</div>"
      ],
      "text/plain": [
       "   appearance   assists  minutes played  days_injured  award  current_value  \\\n",
       "0          55  0.313667            4017             0     10       25000000   \n",
       "1          74  0.086428            3124           280      8       20000000   \n",
       "2          92  0.221811            4869            45     11       20000000   \n",
       "3          31  0.000000            1157           378      6       17000000   \n",
       "4          39  0.064562            2788             0      1         800000   \n",
       "\n",
       "   team_Arsenal FC  team_Bayern Munich  team_Chelsea FC  team_FC Barcelona  \\\n",
       "0            False               False            False              False   \n",
       "1            False               False            False              False   \n",
       "2            False               False            False              False   \n",
       "3            False               False            False              False   \n",
       "4            False               False            False              False   \n",
       "\n",
       "   team_Liverpool FC  team_Manchester City  team_SSC Napoli  \n",
       "0              False                 False            False  \n",
       "1              False                 False            False  \n",
       "2              False                 False            False  \n",
       "3              False                 False            False  \n",
       "4              False                 False            False  "
      ]
     },
     "execution_count": 18,
     "metadata": {},
     "output_type": "execute_result"
    }
   ],
   "source": [
    "\n",
    "df_rest_players = df_rest_players[selected_features]\n",
    "df_rest_players.head()"
   ]
  },
  {
   "cell_type": "code",
   "execution_count": 19,
   "id": "20937902",
   "metadata": {},
   "outputs": [],
   "source": [
    "# preparing the data\n",
    "x = df_rest_players.drop(['current_value'], axis=1)\n",
    "y = df_rest_players['current_value']"
   ]
  },
  {
   "cell_type": "code",
   "execution_count": 20,
   "id": "e7c28566",
   "metadata": {},
   "outputs": [],
   "source": [
    "# splitting the data into training and testing\n",
    "x_train, x_test, y_train, y_test = train_test_split(x, y, \n",
    "                                                   test_size=0.25,\n",
    "                                                   shuffle=True,\n",
    "                                                   random_state=42)\n",
    "# RS : will ensure that the same rows are selected for training and testing each time the code is executed.\n",
    "\n",
    "# scaling data\n",
    "scaler = StandardScaler()\n",
    "scaler.fit(x_train)\n",
    "x_train_scaled = scaler.transform(x_train)\n",
    "x_test_scaled = scaler.transform(x_test)"
   ]
  },
  {
   "cell_type": "code",
   "execution_count": 21,
   "id": "faf1bb5f",
   "metadata": {},
   "outputs": [
    {
     "data": {
      "text/plain": [
       "(4136, 12)"
      ]
     },
     "execution_count": 21,
     "metadata": {},
     "output_type": "execute_result"
    }
   ],
   "source": [
    "x.shape"
   ]
  },
  {
   "cell_type": "code",
   "execution_count": 22,
   "id": "9a5f665b",
   "metadata": {},
   "outputs": [],
   "source": [
    "#### Building the model ####\n",
    "\n",
    "model = LinearRegression()"
   ]
  },
  {
   "cell_type": "code",
   "execution_count": 23,
   "id": "2c557061",
   "metadata": {},
   "outputs": [
    {
     "data": {
      "text/html": [
       "<style>#sk-container-id-1 {color: black;}#sk-container-id-1 pre{padding: 0;}#sk-container-id-1 div.sk-toggleable {background-color: white;}#sk-container-id-1 label.sk-toggleable__label {cursor: pointer;display: block;width: 100%;margin-bottom: 0;padding: 0.3em;box-sizing: border-box;text-align: center;}#sk-container-id-1 label.sk-toggleable__label-arrow:before {content: \"▸\";float: left;margin-right: 0.25em;color: #696969;}#sk-container-id-1 label.sk-toggleable__label-arrow:hover:before {color: black;}#sk-container-id-1 div.sk-estimator:hover label.sk-toggleable__label-arrow:before {color: black;}#sk-container-id-1 div.sk-toggleable__content {max-height: 0;max-width: 0;overflow: hidden;text-align: left;background-color: #f0f8ff;}#sk-container-id-1 div.sk-toggleable__content pre {margin: 0.2em;color: black;border-radius: 0.25em;background-color: #f0f8ff;}#sk-container-id-1 input.sk-toggleable__control:checked~div.sk-toggleable__content {max-height: 200px;max-width: 100%;overflow: auto;}#sk-container-id-1 input.sk-toggleable__control:checked~label.sk-toggleable__label-arrow:before {content: \"▾\";}#sk-container-id-1 div.sk-estimator input.sk-toggleable__control:checked~label.sk-toggleable__label {background-color: #d4ebff;}#sk-container-id-1 div.sk-label input.sk-toggleable__control:checked~label.sk-toggleable__label {background-color: #d4ebff;}#sk-container-id-1 input.sk-hidden--visually {border: 0;clip: rect(1px 1px 1px 1px);clip: rect(1px, 1px, 1px, 1px);height: 1px;margin: -1px;overflow: hidden;padding: 0;position: absolute;width: 1px;}#sk-container-id-1 div.sk-estimator {font-family: monospace;background-color: #f0f8ff;border: 1px dotted black;border-radius: 0.25em;box-sizing: border-box;margin-bottom: 0.5em;}#sk-container-id-1 div.sk-estimator:hover {background-color: #d4ebff;}#sk-container-id-1 div.sk-parallel-item::after {content: \"\";width: 100%;border-bottom: 1px solid gray;flex-grow: 1;}#sk-container-id-1 div.sk-label:hover label.sk-toggleable__label {background-color: #d4ebff;}#sk-container-id-1 div.sk-serial::before {content: \"\";position: absolute;border-left: 1px solid gray;box-sizing: border-box;top: 0;bottom: 0;left: 50%;z-index: 0;}#sk-container-id-1 div.sk-serial {display: flex;flex-direction: column;align-items: center;background-color: white;padding-right: 0.2em;padding-left: 0.2em;position: relative;}#sk-container-id-1 div.sk-item {position: relative;z-index: 1;}#sk-container-id-1 div.sk-parallel {display: flex;align-items: stretch;justify-content: center;background-color: white;position: relative;}#sk-container-id-1 div.sk-item::before, #sk-container-id-1 div.sk-parallel-item::before {content: \"\";position: absolute;border-left: 1px solid gray;box-sizing: border-box;top: 0;bottom: 0;left: 50%;z-index: -1;}#sk-container-id-1 div.sk-parallel-item {display: flex;flex-direction: column;z-index: 1;position: relative;background-color: white;}#sk-container-id-1 div.sk-parallel-item:first-child::after {align-self: flex-end;width: 50%;}#sk-container-id-1 div.sk-parallel-item:last-child::after {align-self: flex-start;width: 50%;}#sk-container-id-1 div.sk-parallel-item:only-child::after {width: 0;}#sk-container-id-1 div.sk-dashed-wrapped {border: 1px dashed gray;margin: 0 0.4em 0.5em 0.4em;box-sizing: border-box;padding-bottom: 0.4em;background-color: white;}#sk-container-id-1 div.sk-label label {font-family: monospace;font-weight: bold;display: inline-block;line-height: 1.2em;}#sk-container-id-1 div.sk-label-container {text-align: center;}#sk-container-id-1 div.sk-container {/* jupyter's `normalize.less` sets `[hidden] { display: none; }` but bootstrap.min.css set `[hidden] { display: none !important; }` so we also need the `!important` here to be able to override the default hidden behavior on the sphinx rendered scikit-learn.org. See: https://github.com/scikit-learn/scikit-learn/issues/21755 */display: inline-block !important;position: relative;}#sk-container-id-1 div.sk-text-repr-fallback {display: none;}</style><div id=\"sk-container-id-1\" class=\"sk-top-container\"><div class=\"sk-text-repr-fallback\"><pre>LinearRegression()</pre><b>In a Jupyter environment, please rerun this cell to show the HTML representation or trust the notebook. <br />On GitHub, the HTML representation is unable to render, please try loading this page with nbviewer.org.</b></div><div class=\"sk-container\" hidden><div class=\"sk-item\"><div class=\"sk-estimator sk-toggleable\"><input class=\"sk-toggleable__control sk-hidden--visually\" id=\"sk-estimator-id-1\" type=\"checkbox\" checked><label for=\"sk-estimator-id-1\" class=\"sk-toggleable__label sk-toggleable__label-arrow\">LinearRegression</label><div class=\"sk-toggleable__content\"><pre>LinearRegression()</pre></div></div></div></div></div>"
      ],
      "text/plain": [
       "LinearRegression()"
      ]
     },
     "execution_count": 23,
     "metadata": {},
     "output_type": "execute_result"
    }
   ],
   "source": [
    "#### Training the model ####\n",
    "\n",
    "## fit the model on the training data\n",
    "model.fit(x_train_scaled, y_train)"
   ]
  },
  {
   "cell_type": "code",
   "execution_count": 25,
   "id": "eb0514a6",
   "metadata": {},
   "outputs": [],
   "source": [
    "y_pred_train = model.predict(x_train_scaled)\n",
    "y_pred_test = model.predict(x_test_scaled)\n"
   ]
  },
  {
   "cell_type": "code",
   "execution_count": 26,
   "id": "974247d3",
   "metadata": {},
   "outputs": [
    {
     "data": {
      "text/plain": [
       "array([ 715828.69872084,  629703.51551412, 1521240.85582339,\n",
       "        493680.53291939, 1087964.30793605, 1098740.79742569,\n",
       "        755459.80722843, 1911446.48527044, 1552096.4521879 ,\n",
       "       1457655.33519595,  938779.58604745, 1444746.66683554])"
      ]
     },
     "execution_count": 26,
     "metadata": {},
     "output_type": "execute_result"
    }
   ],
   "source": [
    "model.coef_"
   ]
  },
  {
   "cell_type": "code",
   "execution_count": 27,
   "id": "87f197b7",
   "metadata": {},
   "outputs": [
    {
     "data": {
      "text/html": [
       "<div>\n",
       "<style scoped>\n",
       "    .dataframe tbody tr th:only-of-type {\n",
       "        vertical-align: middle;\n",
       "    }\n",
       "\n",
       "    .dataframe tbody tr th {\n",
       "        vertical-align: top;\n",
       "    }\n",
       "\n",
       "    .dataframe thead th {\n",
       "        text-align: right;\n",
       "    }\n",
       "</style>\n",
       "<table border=\"1\" class=\"dataframe\">\n",
       "  <thead>\n",
       "    <tr style=\"text-align: right;\">\n",
       "      <th></th>\n",
       "      <th>Coefficient</th>\n",
       "    </tr>\n",
       "  </thead>\n",
       "  <tbody>\n",
       "    <tr>\n",
       "      <th>appearance</th>\n",
       "      <td>7.158287e+05</td>\n",
       "    </tr>\n",
       "    <tr>\n",
       "      <th>assists</th>\n",
       "      <td>6.297035e+05</td>\n",
       "    </tr>\n",
       "    <tr>\n",
       "      <th>minutes played</th>\n",
       "      <td>1.521241e+06</td>\n",
       "    </tr>\n",
       "    <tr>\n",
       "      <th>days_injured</th>\n",
       "      <td>4.936805e+05</td>\n",
       "    </tr>\n",
       "    <tr>\n",
       "      <th>award</th>\n",
       "      <td>1.087964e+06</td>\n",
       "    </tr>\n",
       "    <tr>\n",
       "      <th>team_Arsenal FC</th>\n",
       "      <td>1.098741e+06</td>\n",
       "    </tr>\n",
       "    <tr>\n",
       "      <th>team_Bayern Munich</th>\n",
       "      <td>7.554598e+05</td>\n",
       "    </tr>\n",
       "    <tr>\n",
       "      <th>team_Chelsea FC</th>\n",
       "      <td>1.911446e+06</td>\n",
       "    </tr>\n",
       "    <tr>\n",
       "      <th>team_FC Barcelona</th>\n",
       "      <td>1.552096e+06</td>\n",
       "    </tr>\n",
       "    <tr>\n",
       "      <th>team_Liverpool FC</th>\n",
       "      <td>1.457655e+06</td>\n",
       "    </tr>\n",
       "    <tr>\n",
       "      <th>team_Manchester City</th>\n",
       "      <td>9.387796e+05</td>\n",
       "    </tr>\n",
       "    <tr>\n",
       "      <th>team_SSC Napoli</th>\n",
       "      <td>1.444747e+06</td>\n",
       "    </tr>\n",
       "  </tbody>\n",
       "</table>\n",
       "</div>"
      ],
      "text/plain": [
       "                       Coefficient\n",
       "appearance            7.158287e+05\n",
       "assists               6.297035e+05\n",
       "minutes played        1.521241e+06\n",
       "days_injured          4.936805e+05\n",
       "award                 1.087964e+06\n",
       "team_Arsenal FC       1.098741e+06\n",
       "team_Bayern Munich    7.554598e+05\n",
       "team_Chelsea FC       1.911446e+06\n",
       "team_FC Barcelona     1.552096e+06\n",
       "team_Liverpool FC     1.457655e+06\n",
       "team_Manchester City  9.387796e+05\n",
       "team_SSC Napoli       1.444747e+06"
      ]
     },
     "execution_count": 27,
     "metadata": {},
     "output_type": "execute_result"
    }
   ],
   "source": [
    "coeff_rest_players = pd.DataFrame(model.coef_,x.columns, columns=['Coefficient'])\n",
    "coeff_rest_players"
   ]
  },
  {
   "cell_type": "markdown",
   "id": "9b69767d",
   "metadata": {},
   "source": [
    "## Evaluating the model:"
   ]
  },
  {
   "cell_type": "code",
   "execution_count": null,
   "id": "0168baed",
   "metadata": {},
   "outputs": [],
   "source": [
    "### 1. MSE ###"
   ]
  },
  {
   "cell_type": "code",
   "execution_count": 28,
   "id": "5aa99ccb",
   "metadata": {},
   "outputs": [],
   "source": [
    "y_base = [y_train.mean()] * len(y_test)"
   ]
  },
  {
   "cell_type": "code",
   "execution_count": 29,
   "id": "15384bba",
   "metadata": {},
   "outputs": [
    {
     "name": "stdout",
     "output_type": "stream",
     "text": [
      "Mean Squared Error of base model: 91852440259991.19\n"
     ]
    }
   ],
   "source": [
    "mse_base = mean_squared_error(y_test, y_base )\n",
    "print(f'Mean Squared Error of base model: {mse_base}')"
   ]
  },
  {
   "cell_type": "code",
   "execution_count": 30,
   "id": "246bdb53",
   "metadata": {},
   "outputs": [
    {
     "name": "stdout",
     "output_type": "stream",
     "text": [
      "Mean Squared Error for training: 39908174462858.34\n",
      "Mean Squared Error for testing: 56925247007049.234\n"
     ]
    }
   ],
   "source": [
    "mse_train = mean_squared_error(y_train, y_pred_train)\n",
    "mse_test = mean_squared_error(y_test, y_pred_test)\n",
    "print(f'Mean Squared Error for training: {mse_train}')\n",
    "print(f'Mean Squared Error for testing: {mse_test}')"
   ]
  },
  {
   "cell_type": "code",
   "execution_count": null,
   "id": "0de88e0a",
   "metadata": {},
   "outputs": [],
   "source": [
    "### 2. MAE ###"
   ]
  },
  {
   "cell_type": "code",
   "execution_count": 31,
   "id": "ee1348ed",
   "metadata": {},
   "outputs": [
    {
     "name": "stdout",
     "output_type": "stream",
     "text": [
      "Mean Absolute  Error of base model: 4667312.659081869\n"
     ]
    }
   ],
   "source": [
    "mse_base = mean_absolute_error(y_test, y_base )\n",
    "print(f'Mean Absolute  Error of base model: {mse_base}')"
   ]
  },
  {
   "cell_type": "code",
   "execution_count": 32,
   "id": "b5910d62",
   "metadata": {},
   "outputs": [
    {
     "name": "stdout",
     "output_type": "stream",
     "text": [
      "Mean Absolute Error for training: 3476132.586485709\n",
      "Mean Absolute Error for testing: 3916530.9184202934\n"
     ]
    }
   ],
   "source": [
    "mae_train = mean_absolute_error(y_train, y_pred_train)\n",
    "mae_test = mean_absolute_error(y_test, y_pred_test)\n",
    "print(f'Mean Absolute Error for training: {mae_train}')\n",
    "print(f'Mean Absolute Error for testing: {mae_test}')"
   ]
  },
  {
   "cell_type": "code",
   "execution_count": null,
   "id": "2cc0c536",
   "metadata": {},
   "outputs": [],
   "source": [
    "### 3. RMSE ###"
   ]
  },
  {
   "cell_type": "code",
   "execution_count": 33,
   "id": "9d2a915e",
   "metadata": {},
   "outputs": [
    {
     "name": "stdout",
     "output_type": "stream",
     "text": [
      "Root Mean Squared  Error of base model: 2160.396412485882\n"
     ]
    }
   ],
   "source": [
    "print(f'Root Mean Squared  Error of base model: {np.sqrt(mse_base)}')"
   ]
  },
  {
   "cell_type": "code",
   "execution_count": 34,
   "id": "59c0aaae",
   "metadata": {},
   "outputs": [
    {
     "name": "stdout",
     "output_type": "stream",
     "text": [
      "Root Mean Squared Error for training: 6317291.703163496\n",
      "Root Mean Squared Error for testing: 7544882.173172039\n"
     ]
    }
   ],
   "source": [
    "print(f'Root Mean Squared Error for training: {np.sqrt(mse_train)}')\n",
    "print(f'Root Mean Squared Error for testing: {np.sqrt(mse_test)}')"
   ]
  },
  {
   "cell_type": "code",
   "execution_count": null,
   "id": "3b8a04f6",
   "metadata": {},
   "outputs": [],
   "source": [
    "### 4. R^ ###"
   ]
  },
  {
   "cell_type": "code",
   "execution_count": 35,
   "id": "483a6f2f",
   "metadata": {},
   "outputs": [
    {
     "name": "stdout",
     "output_type": "stream",
     "text": [
      "R Square for training: 0.37597251056828107\n",
      "R Square for testing: 0.37823635601263317\n"
     ]
    }
   ],
   "source": [
    "r2_score_train = r2_score(y_train, y_pred_train)\n",
    "r2_score_test = r2_score(y_test, y_pred_test)\n",
    "print(f'R Square for training: {r2_score_train}')\n",
    "print(f'R Square for testing: {r2_score_test}')"
   ]
  },
  {
   "cell_type": "code",
   "execution_count": null,
   "id": "1f5a7f8a",
   "metadata": {},
   "outputs": [],
   "source": []
  },
  {
   "cell_type": "code",
   "execution_count": null,
   "id": "179585fe",
   "metadata": {},
   "outputs": [],
   "source": [
    "### 5. Cross Validation ###"
   ]
  },
  {
   "cell_type": "code",
   "execution_count": 36,
   "id": "f2c0d4da",
   "metadata": {},
   "outputs": [
    {
     "data": {
      "text/plain": [
       "array([6.33684604e+13, 4.36854803e+13, 4.45616353e+13, 3.44540609e+13,\n",
       "       5.04667203e+13])"
      ]
     },
     "execution_count": 36,
     "metadata": {},
     "output_type": "execute_result"
    }
   ],
   "source": [
    "# the values looks close to each other \n",
    "kf = KFold(n_splits=5, shuffle=True, random_state=42)  # 5 folds, data shuffled before splitting\n",
    "\n",
    "scores = cross_val_score(model, x, y, cv=kf, scoring='neg_mean_squared_error')\n",
    "\n",
    "mse_scores = -scores\n",
    "mse_scores"
   ]
  },
  {
   "cell_type": "code",
   "execution_count": null,
   "id": "5e63dea7",
   "metadata": {},
   "outputs": [],
   "source": []
  },
  {
   "cell_type": "code",
   "execution_count": null,
   "id": "81e9b945",
   "metadata": {},
   "outputs": [],
   "source": [
    "#### Regulization ####"
   ]
  },
  {
   "cell_type": "code",
   "execution_count": null,
   "id": "ae41aeee",
   "metadata": {},
   "outputs": [],
   "source": []
  },
  {
   "cell_type": "code",
   "execution_count": null,
   "id": "0a322ab4",
   "metadata": {},
   "outputs": [],
   "source": []
  }
 ],
 "metadata": {
  "kernelspec": {
   "display_name": "Python 3 (ipykernel)",
   "language": "python",
   "name": "python3"
  },
  "language_info": {
   "codemirror_mode": {
    "name": "ipython",
    "version": 3
   },
   "file_extension": ".py",
   "mimetype": "text/x-python",
   "name": "python",
   "nbconvert_exporter": "python",
   "pygments_lexer": "ipython3",
   "version": "3.11.5"
  }
 },
 "nbformat": 4,
 "nbformat_minor": 5
}
